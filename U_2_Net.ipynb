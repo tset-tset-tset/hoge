{
  "nbformat": 4,
  "nbformat_minor": 0,
  "metadata": {
    "colab": {
      "name": "U-2-Net.ipynb",
      "provenance": [],
      "authorship_tag": "ABX9TyN6S6smNrnzXA0MT7kKTABf",
      "include_colab_link": true
    },
    "kernelspec": {
      "name": "python3",
      "display_name": "Python 3"
    },
    "accelerator": "GPU"
  },
  "cells": [
    {
      "cell_type": "markdown",
      "metadata": {
        "id": "view-in-github",
        "colab_type": "text"
      },
      "source": [
        "<a href=\"https://colab.research.google.com/github/tset-tset-tset/hoge/blob/master/U_2_Net.ipynb\" target=\"_parent\"><img src=\"https://colab.research.google.com/assets/colab-badge.svg\" alt=\"Open In Colab\"/></a>"
      ]
    },
    {
      "cell_type": "markdown",
      "metadata": {
        "id": "bCZ7rnfqdFqX"
      },
      "source": [
        "https://github.com/NathanUA/U-2-Net"
      ]
    },
    {
      "cell_type": "code",
      "metadata": {
        "colab": {
          "base_uri": "https://localhost:8080/"
        },
        "id": "c1yzGlGydBue",
        "outputId": "a840e5a0-60a0-4c2d-8948-4265bf80ed61"
      },
      "source": [
        "!git clone https://github.com/NathanUA/U-2-Net"
      ],
      "execution_count": 1,
      "outputs": [
        {
          "output_type": "stream",
          "text": [
            "Cloning into 'U-2-Net'...\n",
            "remote: Enumerating objects: 401, done.\u001b[K\n",
            "remote: Total 401 (delta 0), reused 0 (delta 0), pack-reused 401\u001b[K\n",
            "Receiving objects: 100% (401/401), 20.30 MiB | 14.08 MiB/s, done.\n",
            "Resolving deltas: 100% (154/154), done.\n"
          ],
          "name": "stdout"
        }
      ]
    },
    {
      "cell_type": "code",
      "metadata": {
        "colab": {
          "base_uri": "https://localhost:8080/"
        },
        "id": "x5x109drdNVn",
        "outputId": "8427c338-73ca-4855-aa6c-1f10c1281246"
      },
      "source": [
        "!mkdir -p U-2-Net/saved_models/u2net_portrait/\n",
        "!gdown --id 1IG3HdpcRiDoWNookbncQjeaPN28t90yW\n",
        "!mv u2net_portrait.pth U-2-Net/saved_models/u2net_portrait/"
      ],
      "execution_count": 2,
      "outputs": [
        {
          "output_type": "stream",
          "text": [
            "Downloading...\n",
            "From: https://drive.google.com/uc?id=1IG3HdpcRiDoWNookbncQjeaPN28t90yW\n",
            "To: /content/u2net_portrait.pth\n",
            "176MB [00:02, 75.7MB/s]\n"
          ],
          "name": "stdout"
        }
      ]
    },
    {
      "cell_type": "code",
      "metadata": {
        "colab": {
          "base_uri": "https://localhost:8080/"
        },
        "id": "jPqQFsJvdkn6",
        "outputId": "e0e26d79-aa85-4e39-a498-9fb16cc88cd0"
      },
      "source": [
        "!ls -l U-2-Net/test_data/test_portrait_images/your_portrait_im/\n",
        "!cd U-2-Net/; python u2net_portrait_demo.py"
      ],
      "execution_count": 3,
      "outputs": [
        {
          "output_type": "stream",
          "text": [
            "total 1032\n",
            "-rw-r--r-- 1 root root  68973 Nov 24 18:37 GalGadot.jpg\n",
            "-rw-r--r-- 1 root root 244268 Nov 24 18:37 guliNazha3.jpg\n",
            "-rw-r--r-- 1 root root  90033 Nov 24 18:37 kid1.jpg\n",
            "-rw-r--r-- 1 root root  46586 Nov 24 18:37 kid2.jpg\n",
            "-rw-r--r-- 1 root root  63241 Nov 24 18:37 kid3.jpg\n",
            "-rw-r--r-- 1 root root  65753 Nov 24 18:37 man2.jpg\n",
            "-rw-r--r-- 1 root root  44244 Nov 24 18:37 man4.jpg\n",
            "-rw-r--r-- 1 root root 121651 Nov 24 18:37 man5.jpg\n",
            "-rw-r--r-- 1 root root  27610 Nov 24 18:37 man.jpg\n",
            "-rw-r--r-- 1 root root  29368 Nov 24 18:37 smile.jpg\n",
            "-rw-r--r-- 1 root root 235345 Nov 24 18:37 Xuebin-10.jpeg\n",
            "Number of images:  11\n",
            "--------------------------\n",
            "inferencing  0 / 11 ./test_data/test_portrait_images/your_portrait_im/kid2.jpg\n",
            "/usr/local/lib/python3.6/dist-packages/torch/nn/functional.py:2952: UserWarning: nn.functional.upsample is deprecated. Use nn.functional.interpolate instead.\n",
            "  warnings.warn(\"nn.functional.upsample is deprecated. Use nn.functional.interpolate instead.\")\n",
            "/usr/local/lib/python3.6/dist-packages/torch/nn/functional.py:3063: UserWarning: Default upsampling behavior when mode=bilinear is changed to align_corners=False since 0.4.0. Please specify align_corners=True if the old behavior is desired. See the documentation of nn.Upsample for details.\n",
            "  \"See the documentation of nn.Upsample for details.\".format(mode))\n",
            "/usr/local/lib/python3.6/dist-packages/torch/nn/functional.py:1639: UserWarning: nn.functional.sigmoid is deprecated. Use torch.sigmoid instead.\n",
            "  warnings.warn(\"nn.functional.sigmoid is deprecated. Use torch.sigmoid instead.\")\n",
            "--------------------------\n",
            "inferencing  1 / 11 ./test_data/test_portrait_images/your_portrait_im/guliNazha3.jpg\n",
            "--------------------------\n",
            "inferencing  2 / 11 ./test_data/test_portrait_images/your_portrait_im/man.jpg\n",
            "--------------------------\n",
            "inferencing  3 / 11 ./test_data/test_portrait_images/your_portrait_im/kid1.jpg\n",
            "--------------------------\n",
            "inferencing  4 / 11 ./test_data/test_portrait_images/your_portrait_im/kid3.jpg\n",
            "--------------------------\n",
            "inferencing  5 / 11 ./test_data/test_portrait_images/your_portrait_im/man4.jpg\n",
            "--------------------------\n",
            "inferencing  6 / 11 ./test_data/test_portrait_images/your_portrait_im/man2.jpg\n",
            "--------------------------\n",
            "inferencing  7 / 11 ./test_data/test_portrait_images/your_portrait_im/GalGadot.jpg\n",
            "--------------------------\n",
            "inferencing  8 / 11 ./test_data/test_portrait_images/your_portrait_im/man5.jpg\n",
            "--------------------------\n",
            "inferencing  9 / 11 ./test_data/test_portrait_images/your_portrait_im/Xuebin-10.jpeg\n",
            "--------------------------\n",
            "inferencing  10 / 11 ./test_data/test_portrait_images/your_portrait_im/smile.jpg\n"
          ],
          "name": "stdout"
        }
      ]
    },
    {
      "cell_type": "markdown",
      "metadata": {
        "id": "dBEYQFH4dDv5"
      },
      "source": [
        ""
      ]
    }
  ]
}